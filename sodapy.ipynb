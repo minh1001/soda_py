{
  "nbformat": 4,
  "nbformat_minor": 0,
  "metadata": {
    "colab": {
      "name": "sodapy",
      "provenance": [],
      "collapsed_sections": [
        "aHMoQtpzY580",
        "ntRuZ5DAdZSs",
        "Uvg1-oFZZEgX",
        "7hYh4KFs4PAe",
        "1P-OhBRJawcC"
      ]
    },
    "kernelspec": {
      "name": "python3",
      "display_name": "Python 3"
    }
  },
  "cells": [
    {
      "cell_type": "markdown",
      "metadata": {
        "id": "aHMoQtpzY580",
        "colab_type": "text"
      },
      "source": [
        "# Imports + SodaPy"
      ]
    },
    {
      "cell_type": "code",
      "metadata": {
        "id": "86QRAPXYYuxM",
        "colab_type": "code",
        "outputId": "19182c72-fe4b-403d-a539-0fdc1c0a1bbe",
        "colab": {
          "base_uri": "https://localhost:8080/",
          "height": 119
        }
      },
      "source": [
        "# import os\n",
        "import pandas as pd\n",
        "import numpy as np\n",
        "import matplotlib.pyplot as plt\n",
        "\n",
        "!pip install sodapy\n",
        "from sodapy import Socrata"
      ],
      "execution_count": 0,
      "outputs": [
        {
          "output_type": "stream",
          "text": [
            "Requirement already satisfied: sodapy in /usr/local/lib/python3.6/dist-packages (2.0.0)\n",
            "Requirement already satisfied: requests>=2.20.0 in /usr/local/lib/python3.6/dist-packages (from sodapy) (2.21.0)\n",
            "Requirement already satisfied: idna<2.9,>=2.5 in /usr/local/lib/python3.6/dist-packages (from requests>=2.20.0->sodapy) (2.8)\n",
            "Requirement already satisfied: chardet<3.1.0,>=3.0.2 in /usr/local/lib/python3.6/dist-packages (from requests>=2.20.0->sodapy) (3.0.4)\n",
            "Requirement already satisfied: urllib3<1.25,>=1.21.1 in /usr/local/lib/python3.6/dist-packages (from requests>=2.20.0->sodapy) (1.24.3)\n",
            "Requirement already satisfied: certifi>=2017.4.17 in /usr/local/lib/python3.6/dist-packages (from requests>=2.20.0->sodapy) (2019.11.28)\n"
          ],
          "name": "stdout"
        }
      ]
    },
    {
      "cell_type": "markdown",
      "metadata": {
        "id": "ntRuZ5DAdZSs",
        "colab_type": "text"
      },
      "source": [
        "# Simple Query Example: Filter for all stations in the city of Chicago that offer Liquified Petroleum Gas\n"
      ]
    },
    {
      "cell_type": "code",
      "metadata": {
        "id": "M6q3xc2r4FSc",
        "colab_type": "code",
        "outputId": "3240c248-2972-48dc-ff4a-7bacf89ab808",
        "colab": {
          "base_uri": "https://localhost:8080/",
          "height": 428
        }
      },
      "source": [
        "pd.read_json('https://data.cityofchicago.org/resource/f7f2-ggz5.json?fuel_type_code=LPG').head(5)"
      ],
      "execution_count": 0,
      "outputs": [
        {
          "output_type": "execute_result",
          "data": {
            "text/html": [
              "<div>\n",
              "<style scoped>\n",
              "    .dataframe tbody tr th:only-of-type {\n",
              "        vertical-align: middle;\n",
              "    }\n",
              "\n",
              "    .dataframe tbody tr th {\n",
              "        vertical-align: top;\n",
              "    }\n",
              "\n",
              "    .dataframe thead th {\n",
              "        text-align: right;\n",
              "    }\n",
              "</style>\n",
              "<table border=\"1\" class=\"dataframe\">\n",
              "  <thead>\n",
              "    <tr style=\"text-align: right;\">\n",
              "      <th></th>\n",
              "      <th>id</th>\n",
              "      <th>fuel_type_code</th>\n",
              "      <th>station_name</th>\n",
              "      <th>street_address</th>\n",
              "      <th>city</th>\n",
              "      <th>state</th>\n",
              "      <th>zip</th>\n",
              "      <th>station_phone</th>\n",
              "      <th>status_code</th>\n",
              "      <th>groups_with_access_code</th>\n",
              "      <th>access_days_time</th>\n",
              "      <th>cards_accepted</th>\n",
              "      <th>geocode_status</th>\n",
              "      <th>latitude</th>\n",
              "      <th>longitude</th>\n",
              "      <th>date_last_confirmed</th>\n",
              "      <th>updated_at</th>\n",
              "      <th>owner_type_code</th>\n",
              "      <th>lpg_primary</th>\n",
              "      <th>location</th>\n",
              "      <th>open_date</th>\n",
              "      <th>intersection_directions</th>\n",
              "    </tr>\n",
              "  </thead>\n",
              "  <tbody>\n",
              "    <tr>\n",
              "      <th>0</th>\n",
              "      <td>50514</td>\n",
              "      <td>LPG</td>\n",
              "      <td>Menards</td>\n",
              "      <td>1800 Marketview Dr</td>\n",
              "      <td>Yorkville</td>\n",
              "      <td>IL</td>\n",
              "      <td>60560</td>\n",
              "      <td>630-553-8601</td>\n",
              "      <td>E</td>\n",
              "      <td>Public</td>\n",
              "      <td>6:30am-10pm M-F, 6:30am-9pm Sat, 8am-8pm Sun</td>\n",
              "      <td>A Cash Checks D M V</td>\n",
              "      <td>200-9</td>\n",
              "      <td>41.664730</td>\n",
              "      <td>-88.438626</td>\n",
              "      <td>2020-03-03T00:00:00.000</td>\n",
              "      <td>2020-03-03 15:13:47+00:00</td>\n",
              "      <td>P</td>\n",
              "      <td>true</td>\n",
              "      <td>{'latitude': '41.66473', 'longitude': '-88.438...</td>\n",
              "      <td>NaN</td>\n",
              "      <td>NaN</td>\n",
              "    </tr>\n",
              "    <tr>\n",
              "      <th>1</th>\n",
              "      <td>50498</td>\n",
              "      <td>LPG</td>\n",
              "      <td>Menards</td>\n",
              "      <td>2545 IL-26 S</td>\n",
              "      <td>Freeport</td>\n",
              "      <td>IL</td>\n",
              "      <td>60132</td>\n",
              "      <td>815-235-0010</td>\n",
              "      <td>E</td>\n",
              "      <td>Public</td>\n",
              "      <td>6:30am-10pm M-Sat, 8am-8pm Sun</td>\n",
              "      <td>A Cash Checks D M V</td>\n",
              "      <td>GPS</td>\n",
              "      <td>42.262789</td>\n",
              "      <td>-89.629456</td>\n",
              "      <td>2019-09-09T00:00:00.000</td>\n",
              "      <td>2020-01-21 12:34:38+00:00</td>\n",
              "      <td>P</td>\n",
              "      <td>true</td>\n",
              "      <td>{'latitude': '42.262789', 'longitude': '-89.62...</td>\n",
              "      <td>2018-01-02T00:00:00.000</td>\n",
              "      <td>NaN</td>\n",
              "    </tr>\n",
              "    <tr>\n",
              "      <th>2</th>\n",
              "      <td>21205</td>\n",
              "      <td>LPG</td>\n",
              "      <td>Hicksgas</td>\n",
              "      <td>1625 S Schuyler Ave</td>\n",
              "      <td>Kankakee</td>\n",
              "      <td>IL</td>\n",
              "      <td>60901</td>\n",
              "      <td>815-933-4464</td>\n",
              "      <td>E</td>\n",
              "      <td>Public - Call ahead</td>\n",
              "      <td>8am-5pm M-F, 8am-12pm Sat</td>\n",
              "      <td>Cash D M V</td>\n",
              "      <td>200-9</td>\n",
              "      <td>41.101504</td>\n",
              "      <td>-87.869992</td>\n",
              "      <td>2019-09-09T00:00:00.000</td>\n",
              "      <td>2020-01-21 12:34:38+00:00</td>\n",
              "      <td>P</td>\n",
              "      <td>false</td>\n",
              "      <td>{'latitude': '41.101504', 'longitude': '-87.86...</td>\n",
              "      <td>NaN</td>\n",
              "      <td>NaN</td>\n",
              "    </tr>\n",
              "    <tr>\n",
              "      <th>3</th>\n",
              "      <td>70911</td>\n",
              "      <td>LPG</td>\n",
              "      <td>U-Haul</td>\n",
              "      <td>4705 W 47th St</td>\n",
              "      <td>Chicago</td>\n",
              "      <td>IL</td>\n",
              "      <td>60632</td>\n",
              "      <td>773-767-1797</td>\n",
              "      <td>E</td>\n",
              "      <td>Public</td>\n",
              "      <td>7am-7pm M-Th and Sat, 7am-8pm F, 9am-5pm Sun</td>\n",
              "      <td>A Cash D M V</td>\n",
              "      <td>200-9</td>\n",
              "      <td>41.807420</td>\n",
              "      <td>-87.741100</td>\n",
              "      <td>2019-09-09T00:00:00.000</td>\n",
              "      <td>2020-01-21 12:34:38+00:00</td>\n",
              "      <td>P</td>\n",
              "      <td>true</td>\n",
              "      <td>{'latitude': '41.80742', 'longitude': '-87.7411'}</td>\n",
              "      <td>NaN</td>\n",
              "      <td>NaN</td>\n",
              "    </tr>\n",
              "    <tr>\n",
              "      <th>4</th>\n",
              "      <td>43888</td>\n",
              "      <td>LPG</td>\n",
              "      <td>AmeriGas</td>\n",
              "      <td>2801 E 175th St</td>\n",
              "      <td>Lansing</td>\n",
              "      <td>IL</td>\n",
              "      <td>60438</td>\n",
              "      <td>708-474-0555</td>\n",
              "      <td>E</td>\n",
              "      <td>Public - Call ahead</td>\n",
              "      <td>7am-3:30pm M-F</td>\n",
              "      <td>A Cash Checks D M V</td>\n",
              "      <td>GPS</td>\n",
              "      <td>41.576932</td>\n",
              "      <td>-87.547443</td>\n",
              "      <td>2019-09-09T00:00:00.000</td>\n",
              "      <td>2020-01-21 12:34:38+00:00</td>\n",
              "      <td>P</td>\n",
              "      <td>false</td>\n",
              "      <td>{'latitude': '41.5769322804486', 'longitude': ...</td>\n",
              "      <td>NaN</td>\n",
              "      <td>NaN</td>\n",
              "    </tr>\n",
              "  </tbody>\n",
              "</table>\n",
              "</div>"
            ],
            "text/plain": [
              "      id fuel_type_code  ...                open_date intersection_directions\n",
              "0  50514            LPG  ...                      NaN                     NaN\n",
              "1  50498            LPG  ...  2018-01-02T00:00:00.000                     NaN\n",
              "2  21205            LPG  ...                      NaN                     NaN\n",
              "3  70911            LPG  ...                      NaN                     NaN\n",
              "4  43888            LPG  ...                      NaN                     NaN\n",
              "\n",
              "[5 rows x 22 columns]"
            ]
          },
          "metadata": {
            "tags": []
          },
          "execution_count": 3
        }
      ]
    },
    {
      "cell_type": "markdown",
      "metadata": {
        "id": "7hYh4KFs4PAe",
        "colab_type": "text"
      },
      "source": [
        "# SoQL Example #1: Top 10 registered dog breeds in NYC"
      ]
    },
    {
      "cell_type": "code",
      "metadata": {
        "id": "x71e2jJ16S0k",
        "colab_type": "code",
        "outputId": "04d11685-f321-45da-bbdf-aacdfbe1769b",
        "colab": {
          "base_uri": "https://localhost:8080/",
          "height": 34
        }
      },
      "source": [
        "# https://data.cityofnewyork.us/Health/NYC-Dog-Licensing-Dataset/nu7n-tubp\n",
        "\n",
        "nyc_dogs_domain = 'data.cityofnewyork.us'\n",
        "nyc_dogs_key = 'nu7n-tubp'\n",
        "\n",
        "nyc_dogs_client = Socrata(nyc_dogs_domain, app_token=None)"
      ],
      "execution_count": 0,
      "outputs": [
        {
          "output_type": "stream",
          "text": [
            "WARNING:root:Requests made without an app_token will be subject to strict throttling limits.\n"
          ],
          "name": "stderr"
        }
      ]
    },
    {
      "cell_type": "code",
      "metadata": {
        "id": "QnUipxzFFlO9",
        "colab_type": "code",
        "outputId": "64dcb1f3-93d8-45c9-ea96-b596c85f7fc2",
        "colab": {
          "base_uri": "https://localhost:8080/",
          "height": 187
        }
      },
      "source": [
        "nyc_metadata = nyc_dogs_client.get_metadata(nyc_dogs_key)\n",
        "[x['name'] for x in nyc_metadata['columns']]"
      ],
      "execution_count": 0,
      "outputs": [
        {
          "output_type": "execute_result",
          "data": {
            "text/plain": [
              "['RowNumber',\n",
              " 'AnimalName',\n",
              " 'AnimalGender',\n",
              " 'AnimalBirthMonth',\n",
              " 'BreedName',\n",
              " 'Borough',\n",
              " 'ZipCode',\n",
              " 'LicenseIssuedDate',\n",
              " 'LicenseExpiredDate',\n",
              " 'Extract Year']"
            ]
          },
          "metadata": {
            "tags": []
          },
          "execution_count": 5
        }
      ]
    },
    {
      "cell_type": "code",
      "metadata": {
        "id": "tJKS-5gwU4oT",
        "colab_type": "code",
        "colab": {}
      },
      "source": [
        "query = '''\n",
        "select breedname, count(*)\n",
        "group by breedname\n",
        "order by count DESC\n",
        "limit 10\n",
        "'''"
      ],
      "execution_count": 0,
      "outputs": []
    },
    {
      "cell_type": "code",
      "metadata": {
        "id": "2ezVevJJVxE4",
        "colab_type": "code",
        "outputId": "315146e8-3f70-4ad9-eb27-35d95846e0d7",
        "colab": {
          "base_uri": "https://localhost:8080/",
          "height": 187
        }
      },
      "source": [
        "nyc_doggies = nyc_dogs_client.get(nyc_dogs_key, query=query)\n",
        "nyc_doggies"
      ],
      "execution_count": 0,
      "outputs": [
        {
          "output_type": "execute_result",
          "data": {
            "text/plain": [
              "[{'breedname': 'Unknown', 'count': '38785'},\n",
              " {'breedname': 'Yorkshire Terrier', 'count': '21922'},\n",
              " {'breedname': 'Shih Tzu', 'count': '19631'},\n",
              " {'breedname': 'Chihuahua', 'count': '15647'},\n",
              " {'breedname': 'Maltese', 'count': '11391'},\n",
              " {'breedname': 'Labrador Retriever', 'count': '11327'},\n",
              " {'breedname': 'American Pit Bull Mix / Pit Bull Mix', 'count': '10304'},\n",
              " {'breedname': 'Labrador Retriever Crossbreed', 'count': '8511'},\n",
              " {'breedname': 'American Pit Bull Terrier/Pit Bull', 'count': '8319'},\n",
              " {'breedname': 'Pomeranian', 'count': '6345'}]"
            ]
          },
          "metadata": {
            "tags": []
          },
          "execution_count": 7
        }
      ]
    },
    {
      "cell_type": "code",
      "metadata": {
        "colab_type": "code",
        "id": "DvwBlTMiaYhV",
        "outputId": "3a4c1058-9992-452a-8207-53a02e709a45",
        "colab": {
          "base_uri": "https://localhost:8080/",
          "height": 204
        }
      },
      "source": [
        "nyc_dogs_df = pd.DataFrame(nyc_doggies)\n",
        "nyc_dogs_df = nyc_dogs_df.head()\n",
        "nyc_dogs_df"
      ],
      "execution_count": 0,
      "outputs": [
        {
          "output_type": "execute_result",
          "data": {
            "text/html": [
              "<div>\n",
              "<style scoped>\n",
              "    .dataframe tbody tr th:only-of-type {\n",
              "        vertical-align: middle;\n",
              "    }\n",
              "\n",
              "    .dataframe tbody tr th {\n",
              "        vertical-align: top;\n",
              "    }\n",
              "\n",
              "    .dataframe thead th {\n",
              "        text-align: right;\n",
              "    }\n",
              "</style>\n",
              "<table border=\"1\" class=\"dataframe\">\n",
              "  <thead>\n",
              "    <tr style=\"text-align: right;\">\n",
              "      <th></th>\n",
              "      <th>breedname</th>\n",
              "      <th>count</th>\n",
              "    </tr>\n",
              "  </thead>\n",
              "  <tbody>\n",
              "    <tr>\n",
              "      <th>0</th>\n",
              "      <td>Unknown</td>\n",
              "      <td>38785</td>\n",
              "    </tr>\n",
              "    <tr>\n",
              "      <th>1</th>\n",
              "      <td>Yorkshire Terrier</td>\n",
              "      <td>21922</td>\n",
              "    </tr>\n",
              "    <tr>\n",
              "      <th>2</th>\n",
              "      <td>Shih Tzu</td>\n",
              "      <td>19631</td>\n",
              "    </tr>\n",
              "    <tr>\n",
              "      <th>3</th>\n",
              "      <td>Chihuahua</td>\n",
              "      <td>15647</td>\n",
              "    </tr>\n",
              "    <tr>\n",
              "      <th>4</th>\n",
              "      <td>Maltese</td>\n",
              "      <td>11391</td>\n",
              "    </tr>\n",
              "  </tbody>\n",
              "</table>\n",
              "</div>"
            ],
            "text/plain": [
              "           breedname  count\n",
              "0            Unknown  38785\n",
              "1  Yorkshire Terrier  21922\n",
              "2           Shih Tzu  19631\n",
              "3          Chihuahua  15647\n",
              "4            Maltese  11391"
            ]
          },
          "metadata": {
            "tags": []
          },
          "execution_count": 8
        }
      ]
    },
    {
      "cell_type": "markdown",
      "metadata": {
        "id": "1P-OhBRJawcC",
        "colab_type": "text"
      },
      "source": [
        "# SoQL Example #2: How many dogs named Sparky in NYC vs Seattle?"
      ]
    },
    {
      "cell_type": "code",
      "metadata": {
        "id": "14OV_IXZa7yS",
        "colab_type": "code",
        "outputId": "ef29d2fc-9ad1-4e8a-fdf0-f13f9926128a",
        "colab": {
          "base_uri": "https://localhost:8080/",
          "height": 34
        }
      },
      "source": [
        "# https://data.seattle.gov/Community/Seattle-Pet-Licenses/jguv-t9rb\n",
        "\n",
        "sea_dogs_domain = 'data.seattle.gov'\n",
        "sea_dogs_key = 'jguv-t9rb'\n",
        "\n",
        "sea_dogs_client = Socrata(sea_dogs_domain, app_token=None)"
      ],
      "execution_count": 0,
      "outputs": [
        {
          "output_type": "stream",
          "text": [
            "WARNING:root:Requests made without an app_token will be subject to strict throttling limits.\n"
          ],
          "name": "stderr"
        }
      ]
    },
    {
      "cell_type": "code",
      "metadata": {
        "id": "QwzUDFflcEp1",
        "colab_type": "code",
        "outputId": "c9092b30-cd23-431c-f4a0-b560e4132b7f",
        "colab": {
          "base_uri": "https://localhost:8080/",
          "height": 136
        }
      },
      "source": [
        "sea_metadata = sea_dogs_client.get_metadata(sea_dogs_key)\n",
        "[x['name'] for x in sea_metadata['columns']]"
      ],
      "execution_count": 0,
      "outputs": [
        {
          "output_type": "execute_result",
          "data": {
            "text/plain": [
              "['License Issue Date',\n",
              " 'License Number',\n",
              " \"Animal's Name\",\n",
              " 'Species',\n",
              " 'Primary Breed',\n",
              " 'Secondary Breed',\n",
              " 'ZIP Code']"
            ]
          },
          "metadata": {
            "tags": []
          },
          "execution_count": 10
        }
      ]
    },
    {
      "cell_type": "code",
      "metadata": {
        "id": "EG-ZU6aQbjK3",
        "colab_type": "code",
        "colab": {}
      },
      "source": [
        "sea_query = '''\n",
        "select animal_s_name, count(*) \n",
        "where lower(animal_s_name)=\"sparky\"\n",
        "group by animal_s_name\n",
        "'''"
      ],
      "execution_count": 0,
      "outputs": []
    },
    {
      "cell_type": "code",
      "metadata": {
        "id": "RtV2c3ktbMEC",
        "colab_type": "code",
        "outputId": "2996e6c3-2ffa-4532-e2c6-d879c39cfe9d",
        "colab": {
          "base_uri": "https://localhost:8080/",
          "height": 34
        }
      },
      "source": [
        "sea_dogs_client.get(sea_dogs_key, query=sea_query)"
      ],
      "execution_count": 0,
      "outputs": [
        {
          "output_type": "execute_result",
          "data": {
            "text/plain": [
              "[{'animal_s_name': 'Sparky', 'count': '47'}]"
            ]
          },
          "metadata": {
            "tags": []
          },
          "execution_count": 12
        }
      ]
    },
    {
      "cell_type": "code",
      "metadata": {
        "id": "6jNa2ZugfNZb",
        "colab_type": "code",
        "colab": {}
      },
      "source": [
        "nyc_sparky = '''\n",
        "select animalname, count(*)\n",
        "where lower(animalname) = 'sparky'\n",
        "group by animalname\n",
        "'''"
      ],
      "execution_count": 0,
      "outputs": []
    },
    {
      "cell_type": "code",
      "metadata": {
        "id": "8PIyKYZvfki4",
        "colab_type": "code",
        "outputId": "9ccf622a-4c5d-4ac9-f5d5-36a5d0581abe",
        "colab": {
          "base_uri": "https://localhost:8080/",
          "height": 34
        }
      },
      "source": [
        "nyc_sparky = nyc_dogs_client.get(nyc_dogs_key, query=nyc_sparky)\n",
        "nyc_sparky"
      ],
      "execution_count": 0,
      "outputs": [
        {
          "output_type": "execute_result",
          "data": {
            "text/plain": [
              "[{'animalname': 'SPARKY', 'count': '554'}]"
            ]
          },
          "metadata": {
            "tags": []
          },
          "execution_count": 14
        }
      ]
    }
  ]
}